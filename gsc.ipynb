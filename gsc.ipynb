{
  "nbformat": 4,
  "nbformat_minor": 5,
  "metadata": {
    "kernelspec": {
      "display_name": "seo",
      "language": "python",
      "name": "seo"
    },
    "language_info": {
      "codemirror_mode": {
        "name": "ipython",
        "version": 3
      },
      "file_extension": ".py",
      "mimetype": "text/x-python",
      "name": "python",
      "nbconvert_exporter": "python",
      "pygments_lexer": "ipython3",
      "version": "3.8.5"
    },
    "colab": {
      "name": "gsc",
      "provenance": [],
      "collapsed_sections": []
    }
  },
  "cells": [
    {
      "cell_type": "markdown",
      "metadata": {
        "id": "ls7cCiRCVW3q"
      },
      "source": [
        "Here we are going to use the data we created in the 'extract-gsc.ipynb' file. \n",
        "\n",
        "Thanks Masaki Okazawa for sharing the Twittorial about GSC. I made some nice tweaks as well in the script. But credits to you! \n",
        "https://github.com/saksters  "
      ],
      "id": "ls7cCiRCVW3q"
    },
    {
      "cell_type": "code",
      "metadata": {
        "id": "excessive-brown"
      },
      "source": [
        "import pandas as pd\n",
        "import numpy as np\n",
        "import matplotlib.pyplot as plt\n",
        "from functools import reduce\n",
        "#from google.colab import drive # << Again, only activate when using just this script\n",
        "#drive.mount('/content/drive')"
      ],
      "id": "excessive-brown",
      "execution_count": null,
      "outputs": []
    },
    {
      "cell_type": "code",
      "metadata": {
        "id": "cOVSF1k3wp55"
      },
      "source": [
        "df = pd.read_csv('/content/drive/MyDrive/Colab Notebooks/SEO_reporting/gsc_data.csv')\n",
        "df.drop('Unnamed: 0', axis=1, inplace=True)\n",
        "df['rounded_position'] = df['position'].round(0).astype('int64')"
      ],
      "id": "cOVSF1k3wp55",
      "execution_count": null,
      "outputs": []
    },
    {
      "cell_type": "code",
      "metadata": {
        "id": "NJEgZbBHxJKF"
      },
      "source": [
        "df"
      ],
      "id": "NJEgZbBHxJKF",
      "execution_count": null,
      "outputs": []
    },
    {
      "cell_type": "code",
      "metadata": {
        "id": "bearing-sydney"
      },
      "source": [
        "branded = df[~df['query'].str.contains(\"bcc\") == False]\n",
        "no_pos_1 = branded[branded.rounded_position != 1]\n",
        "#no_pos_1.to_csv('branded_results_to-improve.csv')"
      ],
      "id": "bearing-sydney",
      "execution_count": null,
      "outputs": []
    },
    {
      "cell_type": "code",
      "metadata": {
        "id": "centered-still"
      },
      "source": [
        "def brand_non_brand(x):\n",
        "    if 'bcc' in x:\n",
        "        return 'Brand'\n",
        "    else:\n",
        "        return 'Non-Brand'\n",
        "df['brand vs. nonbrand'] = df['query'].apply(brand_non_brand)"
      ],
      "id": "centered-still",
      "execution_count": null,
      "outputs": []
    },
    {
      "cell_type": "code",
      "metadata": {
        "id": "waiting-tower"
      },
      "source": [
        "df_top_10 = df[df['rounded_position'] <= 10]"
      ],
      "id": "waiting-tower",
      "execution_count": null,
      "outputs": []
    },
    {
      "cell_type": "code",
      "metadata": {
        "id": "metric-sword"
      },
      "source": [
        "#df"
      ],
      "id": "metric-sword",
      "execution_count": null,
      "outputs": []
    },
    {
      "cell_type": "code",
      "metadata": {
        "id": "technological-rhythm"
      },
      "source": [
        "ctr_pivot = df_top_10.pivot_table(index=('rounded_position'), values=['ctr'], aggfunc={'ctr':\"mean\"}).sort_values(by=['rounded_position'], ascending=True)\n",
        "brand_ctr_pivot = df_top_10[df_top_10['brand vs. nonbrand']=='Brand'].pivot_table(index=('rounded_position'), values=['ctr'], aggfunc={'ctr':\"mean\"}).sort_values(by=['rounded_position'], ascending=True)\n",
        "non_brand_ctr_pivot = df_top_10[df_top_10['brand vs. nonbrand']=='Non-Brand'].pivot_table(index=('rounded_position'), values=['ctr'], aggfunc={'ctr':\"mean\"}).sort_values(by=['rounded_position'], ascending=True)\n",
        "dfs = [ctr_pivot, brand_ctr_pivot, non_brand_ctr_pivot]\n",
        "#pd.concat(dfs, axis=1)"
      ],
      "id": "technological-rhythm",
      "execution_count": null,
      "outputs": []
    },
    {
      "cell_type": "code",
      "metadata": {
        "id": "multiple-arcade"
      },
      "source": [
        "df_merged = reduce(lambda left,right:pd.merge(left,right,on=['rounded_position'],how='outer'), dfs)\n",
        "df_merged.rename(columns={\"ctr_x\": \"ctr_all\", \"ctr_y\": \"ctr_brand\", \"ctr\": \"ctr_nonbrand\"})"
      ],
      "id": "multiple-arcade",
      "execution_count": null,
      "outputs": []
    },
    {
      "cell_type": "code",
      "metadata": {
        "id": "systematic-delight"
      },
      "source": [
        "ax = df_merged.head(10).plot(kind='bar')\n",
        "ax.set_ylabel('site_ctr')\n",
        "ax.set_title('bcc.nl site ctr curve')\n",
        "ax.legend(('ctr_all','ctr_brand','ctr_nonbrand'))\n",
        "ax.plot(figsize=(15, 7))"
      ],
      "id": "systematic-delight",
      "execution_count": null,
      "outputs": []
    },
    {
      "cell_type": "code",
      "metadata": {
        "id": "handled-aircraft"
      },
      "source": [
        "brand_ranking_pivot = df[df['brand vs. nonbrand']=='Brand'].pivot_table(index=('rounded_position'), values=['query'], aggfunc={'query':\"count\"}).sort_values(by=['rounded_position'], ascending=True)\n",
        "non_brand_ranking_pivot = df[df['brand vs. nonbrand']=='Non-Brand'].pivot_table(index=('rounded_position'), values=['query'], aggfunc={'query':\"count\"}).sort_values(by=['rounded_position'], ascending=True)\n",
        "dfs2 = [brand_ranking_pivot, non_brand_ranking_pivot]\n",
        "df_merged2 = reduce(lambda left,right:pd.merge(left,right,on=['rounded_position'],how='outer'), dfs2)\n",
        "ax2 = df_merged2.head(10).plot(kind='bar')\n",
        "ax2.set_ylabel('count of queries')\n",
        "ax2.set_title('brand and nonbrand ranking distribution')\n",
        "ax2.legend(('brand_queries','nonbrand_queries'))"
      ],
      "id": "handled-aircraft",
      "execution_count": null,
      "outputs": []
    },
    {
      "cell_type": "code",
      "metadata": {
        "id": "knowing-latex"
      },
      "source": [
        "#df.head()"
      ],
      "id": "knowing-latex",
      "execution_count": null,
      "outputs": []
    },
    {
      "cell_type": "code",
      "metadata": {
        "id": "quick-orleans"
      },
      "source": [
        "#df['category']=df['page'].str.extract(r'(?:.*?\\/){3}([^\\/?#]+)')\n",
        "df['category']=df['page'].str.extract(r'(?:.*?\\/){4}([^\\/?#]+)')\n",
        "df['category']=df['category'].str.replace('-', ' ').str.title()\n",
        "df.head().style.set_properties(subset=['page'])"
      ],
      "id": "quick-orleans",
      "execution_count": null,
      "outputs": []
    },
    {
      "cell_type": "code",
      "metadata": {
        "id": "lesser-white"
      },
      "source": [
        "df_brand = df[df['query'].str.contains('bcc')]\n",
        "df_nonbrand = df[~df['query'].str.contains('bcc')]"
      ],
      "id": "lesser-white",
      "execution_count": null,
      "outputs": []
    },
    {
      "cell_type": "code",
      "metadata": {
        "id": "similar-alcohol"
      },
      "source": [
        "category_pivot = df.pivot_table(index='category', values=['clicks'], aggfunc={'clicks': np.sum})\n",
        "category_pivot = category_pivot.sort_values(by='clicks', ascending=False)\n",
        "category_pivot.head(10)"
      ],
      "id": "similar-alcohol",
      "execution_count": null,
      "outputs": []
    },
    {
      "cell_type": "code",
      "metadata": {
        "id": "geographic-hello"
      },
      "source": [
        "category_pivot = df.pivot_table(index='category', values=['clicks'], aggfunc={'clicks':np.sum})\n",
        "brand_category_pivot = df[df['brand vs. nonbrand']=='Brand'].pivot_table(index='category', values=['clicks'], aggfunc={'clicks':np.sum})\n",
        "non_brand_category_pivot = df[df['brand vs. nonbrand']=='Non-Brand'].pivot_table(index='category', values=['clicks'], aggfunc={'clicks':np.sum})\n",
        "dfs3 = [category_pivot, brand_category_pivot, non_brand_category_pivot]\n",
        "df_merged3 = reduce(lambda left,right:pd.merge(left,right,on=['category'],how='outer'), dfs3)\n",
        "df_merged3.rename(columns={\"clicks_x\": \"clicks_all\", \"clicks_y\": \"clicks_brand\", \"clicks\": \"clicks_nonbrand\"})\n",
        "df_merged3 = df_merged3.sort_values(by='clicks', ascending=False)"
      ],
      "id": "geographic-hello",
      "execution_count": null,
      "outputs": []
    },
    {
      "cell_type": "code",
      "metadata": {
        "id": "loved-enforcement"
      },
      "source": [
        "df_merged3.rename(columns={\"clicks_x\": \"clicks_all\", \"clicks_y\": \"clicks_brand\", \"clicks\": \"clicks_nonbrand\"})\n",
        "df_merged3.head(10)"
      ],
      "id": "loved-enforcement",
      "execution_count": null,
      "outputs": []
    },
    {
      "cell_type": "code",
      "metadata": {
        "id": "shared-oxygen"
      },
      "source": [
        "ax_category = df_merged3.head(10).plot(kind='bar')\n",
        "ax_category.set_ylabel('url clicks')\n",
        "ax_category.set_title('top 10 clicks by category')\n",
        "ax_category.legend(('clicks_all','clicks_brand','clicks_nonbrand'))"
      ],
      "id": "shared-oxygen",
      "execution_count": null,
      "outputs": []
    },
    {
      "cell_type": "code",
      "metadata": {
        "id": "artificial-mexican"
      },
      "source": [
        "keyword_cannibalization_pivot = df.pivot_table(index='query', values=['page'], aggfunc={'page': 'count'})\n",
        "keyword_cannibalization_pivot = keyword_cannibalization_pivot.sort_values(by='page', ascending=False)\n",
        "keyword_cannibalization_pivot.head(10)"
      ],
      "id": "artificial-mexican",
      "execution_count": null,
      "outputs": []
    },
    {
      "cell_type": "code",
      "metadata": {
        "id": "restricted-radius"
      },
      "source": [
        "most_keywords_pivot = df.pivot_table(index='page', values=['query'], aggfunc={'query': 'count'})\n",
        "most_keywords_pivot = most_keywords_pivot.sort_values(by='query', ascending=False)\n",
        "most_keywords_pivot.head(10)"
      ],
      "id": "restricted-radius",
      "execution_count": null,
      "outputs": []
    }
  ]
}