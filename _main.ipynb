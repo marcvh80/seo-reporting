{
  "nbformat": 4,
  "nbformat_minor": 0,
  "metadata": {
    "colab": {
      "name": "_main",
      "provenance": [],
      "authorship_tag": "ABX9TyNzOllJHMZRH1AQDlTx35oz"
    },
    "kernelspec": {
      "name": "python3",
      "display_name": "Python 3"
    }
  },
  "cells": [
    {
      "cell_type": "markdown",
      "metadata": {
        "id": "QunFt42I_ehC"
      },
      "source": [
        "# SEO REPORTING BCC.NL\n",
        "### TIME TO PUSH THAT PLAY BUTTON!\n"
      ]
    },
    {
      "cell_type": "code",
      "metadata": {
        "id": "q16zfcSFYBPA"
      },
      "source": [
        "from google.colab import drive\n",
        "drive.mount('/content/drive')"
      ],
      "execution_count": null,
      "outputs": []
    },
    {
      "cell_type": "code",
      "metadata": {
        "id": "D71XBZeNxibX"
      },
      "source": [
        "#@title\n",
        "# <- YES, THAT ONE\n",
        "%cd /content/drive/MyDrive/Colab\\ Notebooks/SEO_reporting\n",
        "import matplotlib.pyplot as plt\n",
        "plt.rcParams['figure.figsize'] = [6,3]\n",
        "plt.rcParams['figure.dpi'] = 140\n",
        "plt.rcParams.update({'font.size': 10})\n",
        "%run config.ipynb\n",
        "%run ga.ipynb\n",
        "#%run extract_gsc.ipynb\n",
        "%run gsc.ipynb\n",
        "%run visibility.ipynb\n",
        "interactive(plotit, tags=tags)"
      ],
      "execution_count": null,
      "outputs": []
    }
  ]
}