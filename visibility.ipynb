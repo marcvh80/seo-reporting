{
  "nbformat": 4,
  "nbformat_minor": 0,
  "metadata": {
    "colab": {
      "name": "Kopie van visibility.ipynb",
      "provenance": [],
      "collapsed_sections": [],
      "authorship_tag": "ABX9TyPfD7Umf2UXqnXbFP51aE/s"
    },
    "kernelspec": {
      "name": "python3",
      "display_name": "Python 3"
    }
  },
  "cells": [
    {
      "cell_type": "markdown",
      "metadata": {
        "id": "dCozvaoPYCRG"
      },
      "source": [
        "For detailed instructions and how-to's, please check out my Medium post on how this script works and how to tweak/ customize.\n",
        "\n",
        "https://medium.com/how-to-create-your-own-actionable-seo-dashboard/how-to-create-your-own-actionable-seo-dashboard-with-python-86d5767dbd90"
      ]
    },
    {
      "cell_type": "code",
      "metadata": {
        "id": "Uk9OaoUMz_F1"
      },
      "source": [
        "import pandas as pd\n",
        "import numpy as np\n",
        "import os\n",
        "import pandas as pd\n",
        "import numpy as np\n",
        "import re\n",
        "import matplotlib as mpl\n",
        "import matplotlib.pyplot as plt\n",
        "%matplotlib inline\n",
        "from ipywidgets import interactive, widgets, interact\n",
        "import ipywidgets as widgets\n",
        "#from pivottablejs import pivot_ui\n",
        "import warnings\n",
        "warnings.simplefilter('ignore')\n",
        "#from google.colab import drive # << Only use this when executing just this script\n",
        "#drive.mount('/content/drive')"
      ],
      "execution_count": null,
      "outputs": []
    },
    {
      "cell_type": "markdown",
      "metadata": {
        "id": "tPxnbsR5Cqj7"
      },
      "source": [
        "## Websites and variables\n",
        "Okay, just one more thing for some context:\n",
        "In this example I use 5 different websites (company + main competitors)\n",
        "* bcc.nl\n",
        "* expert.nl\n",
        "* bol.com\n",
        "* mediamarkt.nl\n",
        "* coolblue.nl\n",
        "\n",
        "Make sure to replace these with your own company and competitors! \n",
        "Also, these 5 websites are exported from SEMrush ranktracking."
      ]
    },
    {
      "cell_type": "code",
      "metadata": {
        "id": "D8aFCsTg0HZe"
      },
      "source": [
        "df_20210221 = pd.read_csv('/content/drive/MyDrive/Colab Notebooks/SEO_reporting/ranking_history/21-2.csv',header=6)\n",
        "# Replace empty landing pages\n",
        "df_20210221.replace(r'\\s+',np.nan,regex=True).replace('',np.nan, inplace=True)\n",
        "# Add date to columns, date should be changed manually\n",
        "df_20210221['Datum'] = '2021-02-21'\n",
        "# To avoid a warning\n",
        "pd.options.mode.chained_assignment = None \n",
        "# Date to datetime64 Dtype\n",
        "df_20210221['Datum'] =  pd.to_datetime(df_20210221['Datum'], format='%Y%m%d', infer_datetime_format=True)\n",
        "# Rename columns\n",
        "df_20210221.rename(columns={'tags':'Tags','*.expert.nl/*_20210221': 'Rankings_Expert', '*.expert.nl/*_20210221_landing': 'Expert_url','*.bcc.nl/*_20210221': 'Rankings_BCC', '*.bcc.nl/*_20210221_landing': 'BCC_url','*.coolblue.nl/*_20210221': 'Rankings_Coolblue', '*.coolblue.nl/*_20210221_landing': 'Coolblue_url','*.mediamarkt.nl/*_20210221': 'Rankings_Mediamarkt', '*.mediamarkt.nl/*_20210221_landing': 'Mediamarkt_url','*.bol.com/*_20210221': 'Rankings_Bol.com', '*.bol.com/*_20210221_landing': 'Bol.com_url','Search Volume': 'Search_Volume'}, inplace=True)\n",
        "# Define which columns will be used\n",
        "columns_to_use = df_20210221[['Datum','Keyword','Tags','Rankings_Expert','Expert_url','Rankings_BCC','BCC_url','Rankings_Coolblue','Coolblue_url','Rankings_Mediamarkt','Mediamarkt_url','Rankings_Bol.com','Bol.com_url','CPC','Search_Volume']]\n",
        "columns_to_use.to_csv('/content/drive/MyDrive/Colab Notebooks/SEO_reporting/use_cols/20210221.csv')"
      ],
      "execution_count": null,
      "outputs": []
    },
    {
      "cell_type": "markdown",
      "metadata": {
        "id": "JcT1Xq-8XZu_"
      },
      "source": [
        "For now; the df_script above is not automated. Every week I upload new ranking data, exported from SEMrush and change the data in the DataFrame and other places in this script.. Boeehhhh... Really need to fix this.. Suggestions on how to do this? Reach out to me: mmarcvh@gmail.com! \n",
        "\n",
        "So far it is just find and replace.. Okay for now... :-p "
      ]
    },
    {
      "cell_type": "markdown",
      "metadata": {
        "id": "2AkCKkW9YXxZ"
      },
      "source": [
        "# Now the fun part begins...."
      ]
    },
    {
      "cell_type": "code",
      "metadata": {
        "id": "Yv2x6D4d0JNo"
      },
      "source": [
        "# Combine all files from directory\n",
        "files = [file for file in os.listdir('/content/drive/MyDrive/Colab Notebooks/SEO_reporting/use_cols/')]\n",
        "workfile = pd.DataFrame()\n",
        "for file in files:    \n",
        "    df = pd.read_csv('/content/drive/MyDrive/Colab Notebooks/SEO_reporting/use_cols/'+ file)    \n",
        "    workfile = pd.concat([workfile, df])\n",
        "workfile.dropna(subset= [\"Keyword\"], inplace=True)\n",
        "#workfile.drop(workfile.columns[1],axis=1,inplace=True)\n",
        "workfile.replace('-',np.nan, inplace=True)\n",
        "workfile['Rankings_Expert']=workfile['Rankings_Expert'].astype(float)\n",
        "workfile['Rankings_BCC']=workfile['Rankings_BCC'].astype(float)\n",
        "workfile['Rankings_Bol.com']=workfile['Rankings_Bol.com'].astype(float)\n",
        "workfile['Rankings_Mediamarkt']=workfile['Rankings_Mediamarkt'].astype(float)\n",
        "workfile['Rankings_Coolblue']=workfile['Rankings_Coolblue'].astype(float)\n",
        "workfile.drop('Unnamed: 0', axis=1, inplace=True)\n",
        "workfile.replace(r'\\s+',np.nan,regex=True).replace('',np.nan, inplace=True)"
      ],
      "execution_count": null,
      "outputs": []
    },
    {
      "cell_type": "code",
      "metadata": {
        "id": "2LBhcYIM0LVC"
      },
      "source": [
        "# Do some visibility calculatoin and merge files\n",
        "# The visibilty percentages are located at ./visibility_competitors/{.xlsx}\n",
        "df_vis_expert = pd.read_excel('/content/drive/MyDrive/Colab Notebooks/SEO_reporting/visibility_competitors/vis_expert.xlsx')\n",
        "df_vis_calc = workfile.merge(df_vis_expert,on='Rankings_Expert', how='outer')\n",
        "df_vis_calc['Visibility_Expert'] = df_vis_calc.Visibility_Expert.astype(float)\n",
        "df_vis_bcc = pd.read_excel('/content/drive/MyDrive/Colab Notebooks/SEO_reporting/visibility_competitors/vis_bcc.xlsx')\n",
        "df_vis_calc2 = df_vis_calc.merge(df_vis_bcc,on='Rankings_BCC', how='outer')\n",
        "df_vis_calc2['Visibility_BCC'] = df_vis_calc2.Visibility_BCC.astype(float)\n",
        "df_vis_coolblue = pd.read_excel('/content/drive/MyDrive/Colab Notebooks/SEO_reporting/visibility_competitors/vis_coolblue.xlsx')\n",
        "df_vis_calc3 = df_vis_calc2.merge(df_vis_coolblue,on='Rankings_Coolblue', how='outer')\n",
        "df_vis_calc3['Visibility_Coolblue'] = df_vis_calc3.Visibility_Coolblue.astype(float)\n",
        "df_vis_mediamarkt = pd.read_excel('/content/drive/MyDrive/Colab Notebooks/SEO_reporting/visibility_competitors/vis_mediamarkt.xlsx')\n",
        "df_vis_calc4 = df_vis_calc3.merge(df_vis_mediamarkt,on='Rankings_Mediamarkt', how='outer')\n",
        "df_vis_calc4['Visibility_Mediamarkt'] = df_vis_calc4.Visibility_Mediamarkt.astype(float)\n",
        "df_vis_bol = pd.read_excel('/content/drive/MyDrive/Colab Notebooks/SEO_reporting/visibility_competitors/vis_bol.xlsx')\n",
        "df_vis_calc5 = df_vis_calc4.merge(df_vis_bol,on='Rankings_Bol.com', how='outer')\n",
        "df_vis_calc5['Visibility_Bol.com'] = df_vis_calc5['Visibility_Bol.com'].astype(float)"
      ],
      "execution_count": null,
      "outputs": []
    },
    {
      "cell_type": "code",
      "metadata": {
        "id": "BBfkaxC80Naa"
      },
      "source": [
        "# Rename file & remove empty rows\n",
        "df = df_vis_calc5.dropna(subset=['Keyword'])\n",
        "# Optional: some sorting stuff\n",
        "df.sort_values('Search_Volume', ascending=False, inplace=True)\n",
        "# Optional: reset index\n",
        "df.reset_index()\n",
        "visibility = df[['Datum','Keyword','Tags','Visibility_Expert','Visibility_Coolblue','Visibility_Mediamarkt','Visibility_Bol.com','Visibility_BCC']]\n",
        "visibility.head(3)\n",
        "visibility.fillna(0, inplace=True)\n",
        "visibility.to_csv('/content/drive/MyDrive/Colab Notebooks/SEO_reporting/workfile/visibility.csv', index=False)"
      ],
      "execution_count": null,
      "outputs": []
    },
    {
      "cell_type": "code",
      "metadata": {
        "id": "9UYOOkci0Pq1"
      },
      "source": [
        "dataset = pd.read_csv('/content/drive/MyDrive/Colab Notebooks/SEO_reporting/workfile/visibility.csv')\n",
        "dataset.fillna(0, inplace=True)\n",
        "dataset['Datum'] =  pd.to_datetime(dataset['Datum'], format='%Y%m%d', infer_datetime_format=True)"
      ],
      "execution_count": 4,
      "outputs": []
    },
    {
      "cell_type": "code",
      "metadata": {
        "id": "JenOqNRO0U9a"
      },
      "source": [
        "tags = widgets.Dropdown(options=['All'] + list(dataset['Tags'].unique()),value='All',description='Category:',)\n",
        "def plotit(tags):\n",
        "    if 0 > 1:\n",
        "        print('Nothing to show')  \n",
        "    else: \n",
        "        dataset2 = dataset.copy()\n",
        "        if tags != 'All':\n",
        "            dataset2 = dataset2[dataset2.Tags == tags]\n",
        "            plt.show()\n",
        "        \n",
        "        if len(dataset2) > 0:\n",
        "            dataset2.groupby(['Datum']).mean().plot(kind='line',figsize=(18,10))\n",
        "            plt.xlabel('Period', fontsize=24)\n",
        "            plt.ylabel('Visibility in Google Organic Search', fontsize=24)\n",
        "            plt.title('Search Visibility in Google for {}'.format(tags), fontsize=30)        \n",
        "            plt.legend(fontsize=18)\n",
        "            plt.show()\n",
        "        else: \n",
        "            print('Nothing to show')\n",
        "interactive(plotit, tags=tags)"
      ],
      "execution_count": null,
      "outputs": []
    },
    {
      "cell_type": "code",
      "metadata": {
        "id": "idf33uDO3sM2"
      },
      "source": [
        ""
      ],
      "execution_count": null,
      "outputs": []
    }
  ]
}