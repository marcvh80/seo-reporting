{
  "nbformat": 4,
  "nbformat_minor": 0,
  "metadata": {
    "colab": {
      "name": "ga.ipynb",
      "provenance": [],
      "authorship_tag": "XXXXXXX"
    },
    "kernelspec": {
      "name": "python3",
      "display_name": "Python 3"
    }
  },
  "cells": [
    {
      "cell_type": "code",
      "metadata": {
        "id": "3SQnVpzsxKnr"
      },
      "source": [
        "import pandas as pd\n",
        "from apiclient.discovery import build\n",
        "from oauth2client.service_account import ServiceAccountCredentials\n",
        "import matplotlib.pyplot as plt\n",
        "from google.colab import drive\n",
        "from matplotlib.pyplot import figure\n",
        "#drive.mount('/content/drive') # << Use this when hitting only this script"
      ],
      "execution_count": null,
      "outputs": []
    },
    {
      "cell_type": "code",
      "metadata": {
        "id": "_WBtxpIDxM1Z"
      },
      "source": [
        "SCOPES = ['https://www.googleapis.com/auth/analytics.readonly']\n",
        "KEY_FILE_LOCATION = '/content/drive/MyDrive/Colab Notebooks/SEO_reporting/credentials/credentials.json' # << The place to be for the ServiceAccountCredentials!\n",
        "VIEW_ID = 'XXXXXXX'\n",
        "def initialize_analyticsreporting():\n",
        "    credentials = ServiceAccountCredentials.from_json_keyfile_name(KEY_FILE_LOCATION, SCOPES)\n",
        "    analytics = build('analyticsreporting', 'v4', credentials=credentials)\n",
        "    return analytics\n",
        "def get_report(analytics, pageTokenVar):\n",
        "    return analytics.reports().batchGet(\n",
        "        body={\n",
        "        'reportRequests': [\n",
        "        {\n",
        "          'viewId': VIEW_ID,\n",
        "          'dateRanges': [{'startDate': '31daysAgo', 'endDate': 'yesterday'}], # << 1 month for example, but do whatevah...\n",
        "          'metrics': [{'expression': 'ga:sessions'}, {'expression': 'ga:itemQuantity'}],\n",
        "          'dimensions': [{'name': 'ga:Date'}, {'name' :'ga:medium'}],\n",
        "          'pageSize': 10000,\n",
        "          'pageToken': pageTokenVar,\n",
        "          'samplingLevel': 'LARGE'\n",
        "        }]\n",
        "      }\n",
        "    ).execute()\n",
        "def initialize_analyticsreporting():\n",
        "    credentials = ServiceAccountCredentials.from_json_keyfile_name(KEY_FILE_LOCATION, SCOPES)\n",
        "    analytics = build('analyticsreporting', 'v4', credentials=credentials)\n",
        "    return analytics\n",
        "def handle_report(analytics,pagetoken,rows):  \n",
        "    response = get_report(analytics, pagetoken)\n",
        "    columnHeader = response.get(\"reports\")[0].get('columnHeader', {})\n",
        "    dimensionHeaders = columnHeader.get('dimensions', [])\n",
        "    metricHeaders = columnHeader.get('metricHeader', {}).get('metricHeaderEntries', [])\n",
        "    pagetoken = response.get(\"reports\")[0].get('nextPageToken', None)\n",
        "    rowsNew = response.get(\"reports\")[0].get('data', {}).get('rows', [])\n",
        "    rows = rows + rowsNew    \n",
        "    print(\"len(rows): \" + str(len(rows)))\n",
        "    if pagetoken != None:\n",
        "        return handle_report(analytics,pagetoken,rows)\n",
        "    else:\n",
        "        nicerows=[]\n",
        "        for row in rows:\n",
        "            dic={}\n",
        "            dimensions = row.get('dimensions', [])\n",
        "            dateRangeValues = row.get('metrics', [])\n",
        "            for header, dimension in zip(dimensionHeaders, dimensions):\n",
        "                dic[header] = dimension\n",
        "            for i, values in enumerate(dateRangeValues):\n",
        "                for metric, value in zip(metricHeaders, values.get('values')):\n",
        "                    if ',' in value or ',' in value:\n",
        "                        dic[metric.get('name')] = float(value)\n",
        "                    else:\n",
        "                        dic[metric.get('name')] = int(value)\n",
        "            nicerows.append(dic)\n",
        "        return nicerows\n",
        "def main():    \n",
        "    analytics = initialize_analyticsreporting()\n",
        "    global dfanalytics\n",
        "    dfanalytics = []\n",
        "    rows = []\n",
        "    rows = handle_report(analytics,'0',rows)\n",
        "    dfanalytics = pd.DataFrame(list(rows))\n",
        "main()\n",
        "\n",
        "#print(dfanalytics)\n",
        "df = dfanalytics\n",
        "df['Date'] = pd.to_datetime(df['ga:Date'])\n",
        "df = df[df['ga:medium'] == 'organic']\n",
        "df.rename(columns={\"ga:sessions\": \"sessions\", \"ga:itemQuantity\": \"quantity\"})\n",
        "df.set_index('Date', inplace=True)\n",
        "figure(figsize=(18, 10), dpi=80, facecolor='w', edgecolor='k')\n",
        "sessions = df.iloc[: , [0, 2]].copy() \n",
        "sessions.drop(columns=['ga:Date'])\n",
        "sessions.plot(kind='line')\n",
        "quantity = df.iloc[: , [0, 3]].copy() \n",
        "quantity.drop(columns=['ga:Date'])\n",
        "quantity.plot(kind='line')"
      ],
      "execution_count": null,
      "outputs": []
    }
  ]
}
